{
 "cells": [
  {
   "cell_type": "markdown",
   "metadata": {},
   "source": [
    "# Lab 1, Exercise 0\n",
    "# Running Python Commands\n"
   ]
  },
  {
   "cell_type": "code",
   "execution_count": 29,
   "metadata": {},
   "outputs": [
    {
     "ename": "SyntaxError",
     "evalue": "invalid syntax (3426755301.py, line 3)",
     "output_type": "error",
     "traceback": [
      "\u001b[1;36m  Cell \u001b[1;32mIn [29], line 3\u001b[1;36m\u001b[0m\n\u001b[1;33m    x = 6: x > 3 or x < 5\u001b[0m\n\u001b[1;37m         ^\u001b[0m\n\u001b[1;31mSyntaxError\u001b[0m\u001b[1;31m:\u001b[0m invalid syntax\n"
     ]
    }
   ],
   "source": [
    "# Using Intege\n",
    "\n",
    "x = 6: x > 3 or x < 5\n",
    "\n",
    "\n",
    "\n"
   ]
  },
  {
   "cell_type": "code",
   "execution_count": null,
   "metadata": {},
   "outputs": [],
   "source": [
    "# Using Strings\n",
    "str1 = 'This is '\n",
    "str2 = \"a test.\"\n",
    "str3 = str1 + str2\n",
    "print(\"Value of str3 is: \", str3)\n",
    "print(\"The data type of int3 is: \", type(int3))\n",
    "print(\"The data type of str3 is: \", type(str3))\n",
    "print(\"Convert int3 to a string: {} test {}\".format(int3, 'testt'))\n",
    "# print(int(str3)) # This print command will generate an error.  Cannot convert non-numeric string to an integer.\n",
    "str4 = str(int3)\n",
    "print(type(str4))"
   ]
  },
  {
   "cell_type": "code",
   "execution_count": null,
   "metadata": {},
   "outputs": [],
   "source": [
    "# Working with sequences or ordered sets\n",
    "tuple1 = (1, 2, 3, 4, 5)\n",
    "print(\"tuple1 is: \", tuple1)\n",
    "# tuple1.append(6)  This command will fail since you cannot append to an existing tuple.\n",
    "list1 = [1, 2, 3, 4, 5]\n",
    "print(\"List1 is: \", list1)\n",
    "print(\"The length of list1 is: \", len(list1))\n",
    "list1.append(6)\n",
    "print(\"List1 is: \",list1)\n",
    "print(\"The new length of list1 is: \", len(list1))\n",
    "print(\"list1 * 2 is: \", list1 * 2)\n",
    "input(\"Press Enter to continue ...\")\n",
    "variable1 = input(\"Type a number or string and press Enter.  Your input will be assigned to variable1: \")\n",
    "print(\"variable1 is: \", variable1)\n"
   ]
  },
  {
   "cell_type": "code",
   "execution_count": null,
   "metadata": {},
   "outputs": [],
   "source": [
    "#  Help with Python commands1\n",
    "help(list)\n",
    "help(list1)\n"
   ]
  },
  {
   "cell_type": "code",
   "execution_count": null,
   "metadata": {},
   "outputs": [],
   "source": [
    "#  Help with Python commands2\n",
    "dir(list1)\n",
    "list1.sort(reverse=True)\n",
    "print(\"list1 reversed is: \", list1)\n",
    "input(\"Press Enter to exit the script.\")\n"
   ]
  },
  {
   "cell_type": "code",
   "execution_count": null,
   "metadata": {},
   "outputs": [],
   "source": [
    "# Using exclamation (!) to access operating system commands from Jupyter 1\n",
    "!pip list\n"
   ]
  },
  {
   "cell_type": "code",
   "execution_count": null,
   "metadata": {},
   "outputs": [],
   "source": [
    "# Using exclamation (!) to access operating system commands from Jupyter 2\n",
    "!ls\n",
    "!dir\n"
   ]
  },
  {
   "cell_type": "code",
   "execution_count": null,
   "metadata": {},
   "outputs": [],
   "source": [
    "# Jupyter Magics\n",
    "%lsmagic\n"
   ]
  },
  {
   "cell_type": "code",
   "execution_count": null,
   "metadata": {},
   "outputs": [],
   "source": [
    "%%HTML\n",
    "<iframe width=\"560\" height=\"315\" src=\"https://www.youtube.com/embed/evhpuRjHkjk\" frameborder=\"0\" allow=\"autoplay; encrypted-media\" allowfullscreen></iframe>\n",
    "   "
   ]
  },
  {
   "cell_type": "code",
   "execution_count": null,
   "metadata": {},
   "outputs": [],
   "source": [
    "%%HTML\n",
    "<iframe width=\"560\" height=\"315\" src=\"https://www.youtube.com/embed/DPBspKl2epk\" frameborder=\"0\" allow=\"autoplay; encrypted-media\" allowfullscreen></iframe>\n"
   ]
  },
  {
   "cell_type": "code",
   "execution_count": null,
   "metadata": {},
   "outputs": [],
   "source": [
    "%%HTML\n",
    "<iframe width=\"560\" height=\"315\" src=\"https://www.youtube.com/embed/_okUV47eM5c\" frameborder=\"0\" allow=\"autoplay; encrypted-media\" allowfullscreen></iframe>"
   ]
  },
  {
   "cell_type": "code",
   "execution_count": null,
   "metadata": {},
   "outputs": [],
   "source": [
    "%%HTML\n",
    "<iframe width=\"560\" height=\"315\" src=\"https://www.youtube.com/embed/anvYeA1pWlk\" frameborder=\"0\" allow=\"autoplay; encrypted-media\" allowfullscreen></iframe>\n"
   ]
  },
  {
   "cell_type": "code",
   "execution_count": null,
   "metadata": {},
   "outputs": [],
   "source": [
    "%%cmd \n",
    "dir\n",
    "set int1=100\n",
    "echo \"int1 is: \" %int1%\n"
   ]
  },
  {
   "cell_type": "code",
   "execution_count": null,
   "metadata": {},
   "outputs": [],
   "source": [
    "%%bash\n",
    "ls\n",
    "int1=100\n",
    "echo \"\"\n",
    "echo \"int1 is: \" $int1"
   ]
  },
  {
   "cell_type": "code",
   "execution_count": null,
   "metadata": {},
   "outputs": [],
   "source": [
    "%%bash\n",
    "echo \"print('This is a test.')\" > test.py\n",
    "python test.py\n"
   ]
  },
  {
   "cell_type": "code",
   "execution_count": null,
   "metadata": {},
   "outputs": [],
   "source": [
    "%mkdir test\n",
    "%ddir\n",
    "%rmdir test\n",
    "%ddir\n"
   ]
  },
  {
   "cell_type": "code",
   "execution_count": null,
   "metadata": {},
   "outputs": [],
   "source": [
    "!pip install names"
   ]
  },
  {
   "cell_type": "code",
   "execution_count": null,
   "metadata": {},
   "outputs": [],
   "source": [
    "!pip list"
   ]
  },
  {
   "cell_type": "code",
   "execution_count": null,
   "metadata": {},
   "outputs": [],
   "source": [
    "int1=5\n",
    "int2=10\n",
    "int3=int1+int2\n",
    "print(int3)\n"
   ]
  },
  {
   "cell_type": "code",
   "execution_count": null,
   "metadata": {},
   "outputs": [],
   "source": []
  }
 ],
 "metadata": {
  "kernelspec": {
   "display_name": "Python 3.10.6 64-bit",
   "language": "python",
   "name": "python3"
  },
  "language_info": {
   "codemirror_mode": {
    "name": "ipython",
    "version": 3
   },
   "file_extension": ".py",
   "mimetype": "text/x-python",
   "name": "python",
   "nbconvert_exporter": "python",
   "pygments_lexer": "ipython3",
   "version": "3.10.6"
  },
  "vscode": {
   "interpreter": {
    "hash": "369f2c481f4da34e4445cda3fffd2e751bd1c4d706f27375911949ba6bb62e1c"
   }
  }
 },
 "nbformat": 4,
 "nbformat_minor": 2
}
